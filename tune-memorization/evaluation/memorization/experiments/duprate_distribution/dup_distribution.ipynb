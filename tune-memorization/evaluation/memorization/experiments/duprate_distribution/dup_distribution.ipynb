{
 "cells": [
  {
   "cell_type": "markdown",
   "id": "8a709040-4b44-4151-95ed-237377705466",
   "metadata": {},
   "source": [
    "# F-tune sampling\n",
    "\n",
    "- we control the number of times the sample was seen\n",
    "\n",
    "- additionally we are not considering prefix duplicates. The prefix deduplication was done for being able to do not have false negatives. Which means that for the same prefix we have different suffixes but in our sample set might be the case that we are not having that exact suffix (one of many for a single prefix) and we erroneously classify a sample as non memorized when actually it is."
   ]
  },
  {
   "cell_type": "code",
   "execution_count": null,
   "id": "da21b447-ab24-4480-b495-a44df612309c",
   "metadata": {},
   "outputs": [],
   "source": [
    "import torch \n",
    "from datasets import load_dataset\n",
    "from transformers import AutoTokenizer\n",
    "\n",
    "# parallel processing\n",
    "from pandarallel import pandarallel\n",
    "pandarallel.initialize(progress_bar=True, nb_workers=16)\n",
    "from tqdm import tqdm\n",
    "tqdm.pandas()\n",
    "\n",
    "# utility\n",
    "import pandas as pd\n",
    "import numpy as np\n",
    "import matplotlib.pyplot as plt\n",
    "import re\n",
    "import os"
   ]
  },
  {
   "cell_type": "code",
   "execution_count": 2,
   "id": "df672999-4dbf-4f57-9244-b72fdfe7c30e",
   "metadata": {},
   "outputs": [],
   "source": [
    "from collections import Counter"
   ]
  },
  {
   "cell_type": "code",
   "execution_count": 3,
   "id": "4adf3dd3-37cc-4444-a93b-37462443e132",
   "metadata": {},
   "outputs": [],
   "source": [
    "# the random seed\n",
    "seed = 42\n",
    "\n",
    "#length of the tokenizer truncation\n",
    "max_length = 1024\n",
    "\n",
    "#n.samples to be extracted from the final filtered samples\n",
    "n_samples = 1000"
   ]
  },
  {
   "cell_type": "code",
   "execution_count": 5,
   "id": "01a65305-0976-40ac-8522-97f07ce8cac9",
   "metadata": {},
   "outputs": [],
   "source": [
    "# Load the tokenizer from HF-hub\n",
    "checkpoint = \"bigcode/starcoder2-3b\"\n",
    "tokenizer = AutoTokenizer.from_pretrained(checkpoint)\n",
    "\n",
    "# Tokenize the sequences\n",
    "# keep in mind of truncation \n",
    "# in this case avoid padding! Since we don't want to sample place holders!\n",
    "#def tokenize_input_ptrain(batch):\n",
    "    #return tokenizer(batch['content'], return_tensors='pt')\n",
    "#    return tokenizer(batch['content'], truncation = True, max_length=4096, padding = 'do_not_pad',  return_tensors='pt')\n",
    "\n",
    "def tokenize_input_ftune(batch):\n",
    "    #return tokenizer(batch['content'], return_tensors='pt')\n",
    "    return tokenizer(batch['content'], truncation = True, max_length= max_length, padding = 'do_not_pad',  return_tensors='pt')"
   ]
  },
  {
   "cell_type": "markdown",
   "id": "fd54691e-6ba9-4531-9bb3-95a4528cfc59",
   "metadata": {},
   "source": [
    "# Create the fine-tune samples for the attack"
   ]
  },
  {
   "cell_type": "code",
   "execution_count": 6,
   "id": "dc653b2e-b5d7-4093-8876-cf7dd2596ae9",
   "metadata": {},
   "outputs": [],
   "source": [
    "# load the data\n",
    "dataset = dataset = load_dataset(\"parquet\", data_files={'train': '../train_java.parquet'})"
   ]
  },
  {
   "cell_type": "code",
   "execution_count": 7,
   "id": "c9261de3-660e-4cd4-b0f4-84546cb87a43",
   "metadata": {},
   "outputs": [],
   "source": [
    "# remove non-necessery columns form the sample filtering\n",
    "dataset = dataset.remove_columns(['input_ids', 'attention_mask', 'n_tok', 'longline', 'alpha', 'encoded', 'autogen'])"
   ]
  },
  {
   "cell_type": "code",
   "execution_count": 9,
   "id": "8932e9dd-f7e1-414b-88b6-e1ad91d6cb88",
   "metadata": {},
   "outputs": [],
   "source": [
    "# apply the tokenizer\n",
    "dataset = dataset.map(tokenize_input_ftune, batched=False, num_proc=64)\n",
    "\n",
    "# convert it to a pandas dataframe\n",
    "df = dataset['train'].to_pandas()\n",
    "# I don't know why but after the tokenization I have a list of lists and I want to get rid of that\n",
    "df['input_ids'] = df['input_ids'].apply(lambda x: x[0])\n",
    "\n",
    "# filter out the input with a number of tokens > 300\n",
    "df['n_tok'] = df['input_ids'].apply(len)\n",
    "df = df[df['n_tok'] > 300 ]\n",
    "\n",
    "# save a copy for later\n",
    "df_query = df.copy()"
   ]
  },
  {
   "cell_type": "code",
   "execution_count": null,
   "id": "8949a2cc-79f9-4579-b4c0-4b3da5981135",
   "metadata": {},
   "outputs": [],
   "source": [
    "df_query['sample'] = df_query['input_ids'].progress_apply(lambda x: [x[i:i+300] for i in range(0, len(x)-299)])\n",
    "df_query = df_query.explode('sample') # explode the list of lists\n",
    "df_query['hash'] = df_query['sample'].progress_apply(lambda x: hash(tuple(x)))\n",
    "\n",
    "# count the hashes (to retrieve the one uniques)\n",
    "hashes_ptrain = Counter(df_query['hash'])"
   ]
  },
  {
   "cell_type": "code",
   "execution_count": 44,
   "id": "55919c32-de96-4d8c-84a2-77183f8ce70f",
   "metadata": {},
   "outputs": [],
   "source": [
    "dup_dist = df_query.groupby(by='hash')['hash'].count()"
   ]
  },
  {
   "cell_type": "markdown",
   "id": "142a7e3a-61dc-4b7f-a461-0500e9564408",
   "metadata": {},
   "source": [
    "# Distribution plot"
   ]
  },
  {
   "cell_type": "code",
   "execution_count": 50,
   "id": "5ece4ca4-557a-46ac-a27a-cebdcb366560",
   "metadata": {},
   "outputs": [
    {
     "data": {
      "image/png": "[encoded data removed]",
      "text/plain": [
       "<Figure size 600x500 with 1 Axes>"
      ]
     },
     "metadata": {},
     "output_type": "display_data"
    }
   ],
   "source": [
    "fig, ax = plt.subplots(figsize=(6, 5))\n",
    "bplot = ax.boxplot(dup_dist)\n",
    "\n",
    "# Hide the all but the bottom spines (axis lines)\n",
    "ax.spines[\"right\"].set_visible(False)\n",
    "ax.spines[\"left\"].set_visible(False)\n",
    "ax.spines[\"top\"].set_visible(False)\n",
    "\n",
    "# Only show ticks on the left and bottom spines\n",
    "ax.yaxis.set_ticks_position(\"left\")\n",
    "ax.xaxis.set_ticks_position(\"bottom\")\n",
    "\n",
    "ax.set_title('300 tokens duplicates distribution')\n",
    "ax.set_xlabel('Training candidate 300-tok samples')\n",
    "ax.set_ylabel('n. duplicates')\n",
    "\n",
    "plt.show()\n",
    "fig.savefig('./train_dist_dedup.pdf', format='pdf')"
   ]
  }
 ],
 "metadata": {
  "kernelspec": {
   "display_name": "Python 3 (ipykernel)",
   "language": "python",
   "name": "python3"
  },
  "language_info": {
   "codemirror_mode": {
    "name": "ipython",
    "version": 3
   },
   "file_extension": ".py",
   "mimetype": "text/x-python",
   "name": "python",
   "nbconvert_exporter": "python",
   "pygments_lexer": "ipython3",
   "version": "3.8.19"
  }
 },
 "nbformat": 4,
 "nbformat_minor": 5
}
